{
 "cells": [
  {
   "cell_type": "code",
   "execution_count": 1,
   "id": "3ba392b2",
   "metadata": {},
   "outputs": [],
   "source": [
    "import numpy as np"
   ]
  },
  {
   "cell_type": "code",
   "execution_count": 2,
   "id": "020dc64e",
   "metadata": {},
   "outputs": [],
   "source": [
    "# Numpy -->> Array Manipulaation "
   ]
  },
  {
   "cell_type": "code",
   "execution_count": 3,
   "id": "03a19e6a",
   "metadata": {},
   "outputs": [],
   "source": [
    " arr =np.random.randint(1,10 , (4,4))"
   ]
  },
  {
   "cell_type": "code",
   "execution_count": 4,
   "id": "414893fb",
   "metadata": {},
   "outputs": [
    {
     "data": {
      "text/plain": [
       "array([[9, 7, 9, 2],\n",
       "       [8, 4, 3, 8],\n",
       "       [3, 5, 9, 2],\n",
       "       [2, 6, 5, 1]])"
      ]
     },
     "execution_count": 4,
     "metadata": {},
     "output_type": "execute_result"
    }
   ],
   "source": [
    "arr"
   ]
  },
  {
   "cell_type": "code",
   "execution_count": 5,
   "id": "e8d48083",
   "metadata": {},
   "outputs": [
    {
     "data": {
      "text/plain": [
       "array([[9, 7],\n",
       "       [9, 2],\n",
       "       [8, 4],\n",
       "       [3, 8],\n",
       "       [3, 5],\n",
       "       [9, 2],\n",
       "       [2, 6],\n",
       "       [5, 1]])"
      ]
     },
     "execution_count": 5,
     "metadata": {},
     "output_type": "execute_result"
    }
   ],
   "source": [
    "arr.reshape(8,2)"
   ]
  },
  {
   "cell_type": "code",
   "execution_count": 6,
   "id": "4264b2da",
   "metadata": {},
   "outputs": [
    {
     "data": {
      "text/plain": [
       "array([[9, 7, 9, 2],\n",
       "       [8, 4, 3, 8],\n",
       "       [3, 5, 9, 2],\n",
       "       [2, 6, 5, 1]])"
      ]
     },
     "execution_count": 6,
     "metadata": {},
     "output_type": "execute_result"
    }
   ],
   "source": [
    "arr"
   ]
  },
  {
   "cell_type": "code",
   "execution_count": 7,
   "id": "02175c1f",
   "metadata": {},
   "outputs": [
    {
     "data": {
      "text/plain": [
       "array([[9, 8, 3, 2],\n",
       "       [7, 4, 5, 6],\n",
       "       [9, 3, 9, 5],\n",
       "       [2, 8, 2, 1]])"
      ]
     },
     "execution_count": 7,
     "metadata": {},
     "output_type": "execute_result"
    }
   ],
   "source": [
    "# rotate the entire array row will become column and column will become the row \n",
    "arr.T"
   ]
  },
  {
   "cell_type": "code",
   "execution_count": 8,
   "id": "777ff964",
   "metadata": {},
   "outputs": [
    {
     "data": {
      "text/plain": [
       "array([[9, 7, 9, 2],\n",
       "       [8, 4, 3, 8],\n",
       "       [3, 5, 9, 2],\n",
       "       [2, 6, 5, 1]])"
      ]
     },
     "execution_count": 8,
     "metadata": {},
     "output_type": "execute_result"
    }
   ],
   "source": [
    "arr"
   ]
  },
  {
   "cell_type": "code",
   "execution_count": 9,
   "id": "bb8e871d",
   "metadata": {},
   "outputs": [
    {
     "data": {
      "text/plain": [
       "array([9, 7, 9, 2, 8, 4, 3, 8, 3, 5, 9, 2, 2, 6, 5, 1])"
      ]
     },
     "execution_count": 9,
     "metadata": {},
     "output_type": "execute_result"
    }
   ],
   "source": [
    "arr.flatten() # create a one dimensional array and put all the data in one dimensional array "
   ]
  },
  {
   "cell_type": "code",
   "execution_count": 10,
   "id": "f9e45b2a",
   "metadata": {},
   "outputs": [
    {
     "ename": "TypeError",
     "evalue": "_expand_dims_dispatcher() missing 1 required positional argument: 'axis'",
     "output_type": "error",
     "traceback": [
      "\u001b[1;31m---------------------------------------------------------------------------\u001b[0m",
      "\u001b[1;31mTypeError\u001b[0m                                 Traceback (most recent call last)",
      "\u001b[1;32m~\\AppData\\Local\\Temp\\ipykernel_11580\\2326042889.py\u001b[0m in \u001b[0;36m<module>\u001b[1;34m\u001b[0m\n\u001b[1;32m----> 1\u001b[1;33m \u001b[0mnp\u001b[0m\u001b[1;33m.\u001b[0m\u001b[0mexpand_dims\u001b[0m\u001b[1;33m(\u001b[0m\u001b[0marr\u001b[0m\u001b[1;33m)\u001b[0m \u001b[1;31m# missing one argument axis\u001b[0m\u001b[1;33m\u001b[0m\u001b[1;33m\u001b[0m\u001b[0m\n\u001b[0m",
      "\u001b[1;32m<__array_function__ internals>\u001b[0m in \u001b[0;36mexpand_dims\u001b[1;34m(*args, **kwargs)\u001b[0m\n",
      "\u001b[1;31mTypeError\u001b[0m: _expand_dims_dispatcher() missing 1 required positional argument: 'axis'"
     ]
    }
   ],
   "source": [
    "np.expand_dims(arr) # missing one argument axis "
   ]
  },
  {
   "cell_type": "code",
   "execution_count": 11,
   "id": "be75e5a4",
   "metadata": {},
   "outputs": [],
   "source": [
    "mn = np.expand_dims(arr , axis = 1 ) # so we can see it has converted into the two to three dimension .. here \n"
   ]
  },
  {
   "cell_type": "code",
   "execution_count": 12,
   "id": "03d52f5a",
   "metadata": {},
   "outputs": [
    {
     "data": {
      "text/plain": [
       "array([[[9, 7, 9, 2]],\n",
       "\n",
       "       [[8, 4, 3, 8]],\n",
       "\n",
       "       [[3, 5, 9, 2]],\n",
       "\n",
       "       [[2, 6, 5, 1]]])"
      ]
     },
     "execution_count": 12,
     "metadata": {},
     "output_type": "execute_result"
    }
   ],
   "source": [
    "mn # so this time it will be converted into the three dimension array "
   ]
  },
  {
   "cell_type": "code",
   "execution_count": 13,
   "id": "0ae033ef",
   "metadata": {},
   "outputs": [
    {
     "data": {
      "text/plain": [
       "array([[9, 7, 9, 2],\n",
       "       [8, 4, 3, 8],\n",
       "       [3, 5, 9, 2],\n",
       "       [2, 6, 5, 1]])"
      ]
     },
     "execution_count": 13,
     "metadata": {},
     "output_type": "execute_result"
    }
   ],
   "source": [
    "arr"
   ]
  },
  {
   "cell_type": "code",
   "execution_count": 14,
   "id": "c59a7af0",
   "metadata": {},
   "outputs": [
    {
     "data": {
      "text/plain": [
       "array([[[9, 7, 9, 2],\n",
       "        [8, 4, 3, 8],\n",
       "        [3, 5, 9, 2],\n",
       "        [2, 6, 5, 1]]])"
      ]
     },
     "execution_count": 14,
     "metadata": {},
     "output_type": "execute_result"
    }
   ],
   "source": [
    "np.expand_dims(arr , axis = 0)  # again it will make it a two to  three dimension array but now this time it is row wise "
   ]
  },
  {
   "cell_type": "code",
   "execution_count": 15,
   "id": "365aff21",
   "metadata": {},
   "outputs": [],
   "source": [
    " data =np.array([[1] , [2] , [3]])"
   ]
  },
  {
   "cell_type": "code",
   "execution_count": 16,
   "id": "c81b46b6",
   "metadata": {},
   "outputs": [
    {
     "data": {
      "text/plain": [
       "array([1, 2, 3])"
      ]
     },
     "execution_count": 16,
     "metadata": {},
     "output_type": "execute_result"
    }
   ],
   "source": [
    "np.squeeze(data) # now it will convert the data into the one dimension array from a two dimension array "
   ]
  },
  {
   "cell_type": "code",
   "execution_count": 17,
   "id": "09e4dc28",
   "metadata": {},
   "outputs": [
    {
     "data": {
      "text/plain": [
       "array([1, 1, 2, 2, 3, 3])"
      ]
     },
     "execution_count": 17,
     "metadata": {},
     "output_type": "execute_result"
    }
   ],
   "source": [
    "np.repeat(data , 2) # it will repeat the data twice "
   ]
  },
  {
   "cell_type": "code",
   "execution_count": 18,
   "id": "8c98712f",
   "metadata": {},
   "outputs": [
    {
     "data": {
      "text/plain": [
       "array([1, 1, 1, 2, 2, 2, 3, 3, 3])"
      ]
     },
     "execution_count": 18,
     "metadata": {},
     "output_type": "execute_result"
    }
   ],
   "source": [
    "np.repeat(data , 3) # repeat the data thrice "
   ]
  },
  {
   "cell_type": "code",
   "execution_count": 19,
   "id": "9e135272",
   "metadata": {},
   "outputs": [
    {
     "data": {
      "text/plain": [
       "array([1, 1, 1, 1, 2, 2, 2, 2, 3, 3, 3, 3])"
      ]
     },
     "execution_count": 19,
     "metadata": {},
     "output_type": "execute_result"
    }
   ],
   "source": [
    "np.repeat(data , 4)"
   ]
  },
  {
   "cell_type": "code",
   "execution_count": 20,
   "id": "89a80931",
   "metadata": {},
   "outputs": [
    {
     "data": {
      "text/plain": [
       "array([[1],\n",
       "       [2],\n",
       "       [3]])"
      ]
     },
     "execution_count": 20,
     "metadata": {},
     "output_type": "execute_result"
    }
   ],
   "source": [
    "np.roll(data ,3) # now it will roll up the entire dataset "
   ]
  },
  {
   "cell_type": "code",
   "execution_count": 21,
   "id": "f6056777",
   "metadata": {},
   "outputs": [
    {
     "data": {
      "text/plain": [
       "array([[3],\n",
       "       [1],\n",
       "       [2]])"
      ]
     },
     "execution_count": 21,
     "metadata": {},
     "output_type": "execute_result"
    }
   ],
   "source": [
    "np.roll(data , 4)"
   ]
  },
  {
   "cell_type": "code",
   "execution_count": 24,
   "id": "c8bd3187",
   "metadata": {},
   "outputs": [
    {
     "data": {
      "text/plain": [
       "array([[2],\n",
       "       [3],\n",
       "       [1]])"
      ]
     },
     "execution_count": 24,
     "metadata": {},
     "output_type": "execute_result"
    }
   ],
   "source": [
    "np.roll(data , 2) # one will take two step will roll two time we can say like in the same manner 2 will roll 2 time and 3 will roll 2 time "
   ]
  },
  {
   "cell_type": "code",
   "execution_count": 25,
   "id": "61993240",
   "metadata": {},
   "outputs": [
    {
     "data": {
      "text/plain": [
       "array([[1],\n",
       "       [2],\n",
       "       [3]])"
      ]
     },
     "execution_count": 25,
     "metadata": {},
     "output_type": "execute_result"
    }
   ],
   "source": [
    "data"
   ]
  },
  {
   "cell_type": "code",
   "execution_count": 29,
   "id": "6b2cf77a",
   "metadata": {},
   "outputs": [
    {
     "data": {
      "text/plain": [
       "array([[1, 0, 0, 0],\n",
       "       [0, 2, 0, 0],\n",
       "       [0, 0, 3, 0],\n",
       "       [0, 0, 0, 4]])"
      ]
     },
     "execution_count": 29,
     "metadata": {},
     "output_type": "execute_result"
    }
   ],
   "source": [
    "np.diag(np.array([1,2,3,4])) # it will make an array with diagonal as [1,2,3,4]"
   ]
  },
  {
   "cell_type": "code",
   "execution_count": 31,
   "id": "12a8117a",
   "metadata": {},
   "outputs": [],
   "source": [
    "# Numpy -- Binary operation "
   ]
  },
  {
   "cell_type": "code",
   "execution_count": 34,
   "id": "98cf730e",
   "metadata": {},
   "outputs": [],
   "source": [
    "arr1 = np.random.randint(1,10 , (3,4))\n",
    "arr2 = np.random.randint(1,10 , (3,4))"
   ]
  },
  {
   "cell_type": "code",
   "execution_count": 35,
   "id": "8700a6a3",
   "metadata": {},
   "outputs": [
    {
     "data": {
      "text/plain": [
       "array([[3, 4, 2, 1],\n",
       "       [4, 9, 3, 2],\n",
       "       [8, 8, 7, 6]])"
      ]
     },
     "execution_count": 35,
     "metadata": {},
     "output_type": "execute_result"
    }
   ],
   "source": [
    "arr1"
   ]
  },
  {
   "cell_type": "code",
   "execution_count": 36,
   "id": "98ae85df",
   "metadata": {},
   "outputs": [
    {
     "data": {
      "text/plain": [
       "array([[9, 3, 5, 7],\n",
       "       [2, 7, 1, 9],\n",
       "       [4, 5, 8, 4]])"
      ]
     },
     "execution_count": 36,
     "metadata": {},
     "output_type": "execute_result"
    }
   ],
   "source": [
    "arr2"
   ]
  },
  {
   "cell_type": "code",
   "execution_count": 37,
   "id": "542c0310",
   "metadata": {},
   "outputs": [],
   "source": [
    "# plus minus mul and all sort of operation are known as binary operation ... "
   ]
  },
  {
   "cell_type": "code",
   "execution_count": 38,
   "id": "3c4d4af7",
   "metadata": {},
   "outputs": [
    {
     "data": {
      "text/plain": [
       "array([[12,  7,  7,  8],\n",
       "       [ 6, 16,  4, 11],\n",
       "       [12, 13, 15, 10]])"
      ]
     },
     "execution_count": 38,
     "metadata": {},
     "output_type": "execute_result"
    }
   ],
   "source": [
    "arr1 + arr2 # index wise submission operatrion "
   ]
  },
  {
   "cell_type": "code",
   "execution_count": 39,
   "id": "1bbf29ef",
   "metadata": {},
   "outputs": [
    {
     "data": {
      "text/plain": [
       "array([[27, 12, 10,  7],\n",
       "       [ 8, 63,  3, 18],\n",
       "       [32, 40, 56, 24]])"
      ]
     },
     "execution_count": 39,
     "metadata": {},
     "output_type": "execute_result"
    }
   ],
   "source": [
    "arr1* arr2"
   ]
  },
  {
   "cell_type": "code",
   "execution_count": 41,
   "id": "f12fdbfe",
   "metadata": {},
   "outputs": [
    {
     "data": {
      "text/plain": [
       "array([[0.33333333, 1.33333333, 0.4       , 0.14285714],\n",
       "       [2.        , 1.28571429, 3.        , 0.22222222],\n",
       "       [2.        , 1.6       , 0.875     , 1.5       ]])"
      ]
     },
     "execution_count": 41,
     "metadata": {},
     "output_type": "execute_result"
    }
   ],
   "source": [
    "arr1/arr2 # index wise division operation "
   ]
  },
  {
   "cell_type": "code",
   "execution_count": 43,
   "id": "58e0d04f",
   "metadata": {},
   "outputs": [
    {
     "data": {
      "text/plain": [
       "array([[-6,  1, -3, -6],\n",
       "       [ 2,  2,  2, -7],\n",
       "       [ 4,  3, -1,  2]])"
      ]
     },
     "execution_count": 43,
     "metadata": {},
     "output_type": "execute_result"
    }
   ],
   "source": [
    "arr1-arr2 # index wise subraction "
   ]
  },
  {
   "cell_type": "code",
   "execution_count": 44,
   "id": "851fcc9c",
   "metadata": {},
   "outputs": [
    {
     "data": {
      "text/plain": [
       "array([[  19683,      64,      32,       1],\n",
       "       [     16, 4782969,       3,     512],\n",
       "       [   4096,   32768, 5764801,    1296]], dtype=int32)"
      ]
     },
     "execution_count": 44,
     "metadata": {},
     "output_type": "execute_result"
    }
   ],
   "source": [
    "arr1 ** arr2 # index wise power operation it is doing "
   ]
  },
  {
   "cell_type": "code",
   "execution_count": 45,
   "id": "234e6d1c",
   "metadata": {},
   "outputs": [
    {
     "data": {
      "text/plain": [
       "array([[ -4,  -5,  -3,  -2],\n",
       "       [ -5, -10,  -4,  -3],\n",
       "       [ -9,  -9,  -8,  -7]], dtype=int32)"
      ]
     },
     "execution_count": 45,
     "metadata": {},
     "output_type": "execute_result"
    }
   ],
   "source": [
    "~arr1 # index wise binary negation operation "
   ]
  },
  {
   "cell_type": "code",
   "execution_count": 46,
   "id": "a5261870",
   "metadata": {},
   "outputs": [
    {
     "data": {
      "text/plain": [
       "array([[3, 4, 2, 1],\n",
       "       [4, 9, 3, 2],\n",
       "       [8, 8, 7, 6]])"
      ]
     },
     "execution_count": 46,
     "metadata": {},
     "output_type": "execute_result"
    }
   ],
   "source": [
    "arr1"
   ]
  },
  {
   "cell_type": "code",
   "execution_count": 48,
   "id": "181298e8",
   "metadata": {},
   "outputs": [
    {
     "data": {
      "text/plain": [
       "array([[False,  True, False, False],\n",
       "       [ True,  True,  True, False],\n",
       "       [ True,  True, False,  True]])"
      ]
     },
     "execution_count": 48,
     "metadata": {},
     "output_type": "execute_result"
    }
   ],
   "source": [
    "arr1 > arr2 # index wise comparison "
   ]
  },
  {
   "cell_type": "code",
   "execution_count": 49,
   "id": "e97658a9",
   "metadata": {},
   "outputs": [],
   "source": [
    "# Numpy - sting operation "
   ]
  },
  {
   "cell_type": "code",
   "execution_count": 50,
   "id": "fb6cae9f",
   "metadata": {},
   "outputs": [],
   "source": [
    "arr = np.asarray(['shudh' , 'kumar'])"
   ]
  },
  {
   "cell_type": "code",
   "execution_count": 52,
   "id": "935898c3",
   "metadata": {},
   "outputs": [
    {
     "data": {
      "text/plain": [
       "array(['shudh', 'kumar'], dtype='<U5')"
      ]
     },
     "execution_count": 52,
     "metadata": {},
     "output_type": "execute_result"
    }
   ],
   "source": [
    "arr # data type u5 means string type of the dataset .. "
   ]
  },
  {
   "cell_type": "code",
   "execution_count": 53,
   "id": "c9f9bca9",
   "metadata": {},
   "outputs": [],
   "source": [
    "# if we want to change the string data into the uppercase()"
   ]
  },
  {
   "cell_type": "code",
   "execution_count": 55,
   "id": "c2b22cc8",
   "metadata": {},
   "outputs": [
    {
     "data": {
      "text/plain": [
       "array(['SHUDH', 'KUMAR'], dtype='<U5')"
      ]
     },
     "execution_count": 55,
     "metadata": {},
     "output_type": "execute_result"
    }
   ],
   "source": [
    "np.char.upper(arr) # char stands for character and in the car operation there are all the operation related to string "
   ]
  },
  {
   "cell_type": "code",
   "execution_count": 58,
   "id": "76b8f5d9",
   "metadata": {},
   "outputs": [
    {
     "data": {
      "text/plain": [
       "array(['Shudh', 'Kumar'], dtype='<U5')"
      ]
     },
     "execution_count": 58,
     "metadata": {},
     "output_type": "execute_result"
    }
   ],
   "source": [
    "np.char.capitalize(arr) # first letter it will keep in upper case and other it will take in lower case "
   ]
  },
  {
   "cell_type": "code",
   "execution_count": 59,
   "id": "7db11440",
   "metadata": {},
   "outputs": [
    {
     "data": {
      "text/plain": [
       "array(['Shudh', 'Kumar'], dtype='<U5')"
      ]
     },
     "execution_count": 59,
     "metadata": {},
     "output_type": "execute_result"
    }
   ],
   "source": [
    "np.char.title(arr)"
   ]
  },
  {
   "cell_type": "code",
   "execution_count": 60,
   "id": "905de5a6",
   "metadata": {},
   "outputs": [],
   "source": [
    "# numpy - mathematical operation "
   ]
  },
  {
   "cell_type": "code",
   "execution_count": 61,
   "id": "75f199d4",
   "metadata": {},
   "outputs": [
    {
     "data": {
      "text/plain": [
       "array([[3, 4, 2, 1],\n",
       "       [4, 9, 3, 2],\n",
       "       [8, 8, 7, 6]])"
      ]
     },
     "execution_count": 61,
     "metadata": {},
     "output_type": "execute_result"
    }
   ],
   "source": [
    "arr1"
   ]
  },
  {
   "cell_type": "code",
   "execution_count": 62,
   "id": "27e63cb8",
   "metadata": {},
   "outputs": [
    {
     "data": {
      "text/plain": [
       "array([[ 0.14112001, -0.7568025 ,  0.90929743,  0.84147098],\n",
       "       [-0.7568025 ,  0.41211849,  0.14112001,  0.90929743],\n",
       "       [ 0.98935825,  0.98935825,  0.6569866 , -0.2794155 ]])"
      ]
     },
     "execution_count": 62,
     "metadata": {},
     "output_type": "execute_result"
    }
   ],
   "source": [
    "np.sin(arr1) # give the sin value of all this data "
   ]
  },
  {
   "cell_type": "code",
   "execution_count": 63,
   "id": "e93a6d31",
   "metadata": {},
   "outputs": [
    {
     "data": {
      "text/plain": [
       "array([[-0.9899925 , -0.65364362, -0.41614684,  0.54030231],\n",
       "       [-0.65364362, -0.91113026, -0.9899925 , -0.41614684],\n",
       "       [-0.14550003, -0.14550003,  0.75390225,  0.96017029]])"
      ]
     },
     "execution_count": 63,
     "metadata": {},
     "output_type": "execute_result"
    }
   ],
   "source": [
    "np.cos(arr1) # give all the cos values "
   ]
  },
  {
   "cell_type": "code",
   "execution_count": 65,
   "id": "4b0d152e",
   "metadata": {},
   "outputs": [
    {
     "data": {
      "text/plain": [
       "array([[-0.14254654,  1.15782128, -2.18503986,  1.55740772],\n",
       "       [ 1.15782128, -0.45231566, -0.14254654, -2.18503986],\n",
       "       [-6.79971146, -6.79971146,  0.87144798, -0.29100619]])"
      ]
     },
     "execution_count": 65,
     "metadata": {},
     "output_type": "execute_result"
    }
   ],
   "source": [
    "np.tan(arr1) # give us the tan value "
   ]
  },
  {
   "cell_type": "code",
   "execution_count": 66,
   "id": "1fe8483f",
   "metadata": {},
   "outputs": [
    {
     "data": {
      "text/plain": [
       "array([[0.47712125, 0.60205999, 0.30103   , 0.        ],\n",
       "       [0.60205999, 0.95424251, 0.47712125, 0.30103   ],\n",
       "       [0.90308999, 0.90308999, 0.84509804, 0.77815125]])"
      ]
     },
     "execution_count": 66,
     "metadata": {},
     "output_type": "execute_result"
    }
   ],
   "source": [
    "np.log10(arr1) # give us the log value "
   ]
  },
  {
   "cell_type": "code",
   "execution_count": 67,
   "id": "75734ac0",
   "metadata": {},
   "outputs": [
    {
     "data": {
      "text/plain": [
       "array([[2.00855369e+01, 5.45981500e+01, 7.38905610e+00, 2.71828183e+00],\n",
       "       [5.45981500e+01, 8.10308393e+03, 2.00855369e+01, 7.38905610e+00],\n",
       "       [2.98095799e+03, 2.98095799e+03, 1.09663316e+03, 4.03428793e+02]])"
      ]
     },
     "execution_count": 67,
     "metadata": {},
     "output_type": "execute_result"
    }
   ],
   "source": [
    "np.exp(arr1) # give us the exponent of the data "
   ]
  },
  {
   "cell_type": "code",
   "execution_count": 69,
   "id": "a4b14ab8",
   "metadata": {},
   "outputs": [
    {
     "data": {
      "text/plain": [
       "array([[ 9, 16,  4,  1],\n",
       "       [16, 81,  9,  4],\n",
       "       [64, 64, 49, 36]], dtype=int32)"
      ]
     },
     "execution_count": 69,
     "metadata": {},
     "output_type": "execute_result"
    }
   ],
   "source": [
    "np.power(arr1 , 2) # find the sq of every element and return thee values "
   ]
  },
  {
   "cell_type": "code",
   "execution_count": 70,
   "id": "8b569a56",
   "metadata": {},
   "outputs": [
    {
     "data": {
      "text/plain": [
       "array([[  81,  256,   16,    1],\n",
       "       [ 256, 6561,   81,   16],\n",
       "       [4096, 4096, 2401, 1296]], dtype=int32)"
      ]
     },
     "execution_count": 70,
     "metadata": {},
     "output_type": "execute_result"
    }
   ],
   "source": [
    "np.power(arr1 , 4)"
   ]
  },
  {
   "cell_type": "code",
   "execution_count": 71,
   "id": "2a5863d4",
   "metadata": {},
   "outputs": [
    {
     "data": {
      "text/plain": [
       "4.75"
      ]
     },
     "execution_count": 71,
     "metadata": {},
     "output_type": "execute_result"
    }
   ],
   "source": [
    "np.mean(arr1) # give the mean value of the entire array "
   ]
  },
  {
   "cell_type": "code",
   "execution_count": 72,
   "id": "73fa6024",
   "metadata": {},
   "outputs": [
    {
     "data": {
      "text/plain": [
       "4.0"
      ]
     },
     "execution_count": 72,
     "metadata": {},
     "output_type": "execute_result"
    }
   ],
   "source": [
    "np.median(arr1) # give the median value of the entire array "
   ]
  },
  {
   "cell_type": "code",
   "execution_count": 73,
   "id": "cc504fd9",
   "metadata": {},
   "outputs": [
    {
     "ename": "AttributeError",
     "evalue": "module 'numpy' has no attribute 'mode'",
     "output_type": "error",
     "traceback": [
      "\u001b[1;31m---------------------------------------------------------------------------\u001b[0m",
      "\u001b[1;31mAttributeError\u001b[0m                            Traceback (most recent call last)",
      "\u001b[1;32m~\\AppData\\Local\\Temp\\ipykernel_11580\\593156823.py\u001b[0m in \u001b[0;36m<module>\u001b[1;34m\u001b[0m\n\u001b[1;32m----> 1\u001b[1;33m \u001b[0mnp\u001b[0m\u001b[1;33m.\u001b[0m\u001b[0mmode\u001b[0m\u001b[1;33m(\u001b[0m\u001b[0marr1\u001b[0m\u001b[1;33m)\u001b[0m\u001b[1;33m\u001b[0m\u001b[1;33m\u001b[0m\u001b[0m\n\u001b[0m",
      "\u001b[1;32m~\\anaconda3\\lib\\site-packages\\numpy\\__init__.py\u001b[0m in \u001b[0;36m__getattr__\u001b[1;34m(attr)\u001b[0m\n\u001b[0;32m    311\u001b[0m                 \u001b[1;32mreturn\u001b[0m \u001b[0mTester\u001b[0m\u001b[1;33m\u001b[0m\u001b[1;33m\u001b[0m\u001b[0m\n\u001b[0;32m    312\u001b[0m \u001b[1;33m\u001b[0m\u001b[0m\n\u001b[1;32m--> 313\u001b[1;33m             raise AttributeError(\"module {!r} has no attribute \"\n\u001b[0m\u001b[0;32m    314\u001b[0m                                  \"{!r}\".format(__name__, attr))\n\u001b[0;32m    315\u001b[0m \u001b[1;33m\u001b[0m\u001b[0m\n",
      "\u001b[1;31mAttributeError\u001b[0m: module 'numpy' has no attribute 'mode'"
     ]
    }
   ],
   "source": [
    "np.mode(arr1)"
   ]
  },
  {
   "cell_type": "code",
   "execution_count": 74,
   "id": "e5fd6f71",
   "metadata": {},
   "outputs": [
    {
     "data": {
      "text/plain": [
       "2.6180463454008347"
      ]
     },
     "execution_count": 74,
     "metadata": {},
     "output_type": "execute_result"
    }
   ],
   "source": [
    "np.std(arr1) # give us the standard deveation of whole array "
   ]
  },
  {
   "cell_type": "code",
   "execution_count": 75,
   "id": "74e5fcdf",
   "metadata": {},
   "outputs": [
    {
     "data": {
      "text/plain": [
       "6.854166666666667"
      ]
     },
     "execution_count": 75,
     "metadata": {},
     "output_type": "execute_result"
    }
   ],
   "source": [
    "np.var(arr1) # give us the variance of whole array "
   ]
  },
  {
   "cell_type": "code",
   "execution_count": 76,
   "id": "82004856",
   "metadata": {},
   "outputs": [
    {
     "data": {
      "text/plain": [
       "1"
      ]
     },
     "execution_count": 76,
     "metadata": {},
     "output_type": "execute_result"
    }
   ],
   "source": [
    "np.min(arr1) # give the minimum value "
   ]
  },
  {
   "cell_type": "code",
   "execution_count": 77,
   "id": "8cddaef1",
   "metadata": {},
   "outputs": [
    {
     "data": {
      "text/plain": [
       "9"
      ]
     },
     "execution_count": 77,
     "metadata": {},
     "output_type": "execute_result"
    }
   ],
   "source": [
    "np.max(arr1) # give us the maximum value "
   ]
  },
  {
   "cell_type": "code",
   "execution_count": 78,
   "id": "5abb335b",
   "metadata": {},
   "outputs": [],
   "source": [
    "# Numpy - airhtmetic operation "
   ]
  },
  {
   "cell_type": "code",
   "execution_count": 79,
   "id": "f82b69cd",
   "metadata": {},
   "outputs": [
    {
     "data": {
      "text/plain": [
       "array([[3, 4, 2, 1],\n",
       "       [4, 9, 3, 2],\n",
       "       [8, 8, 7, 6]])"
      ]
     },
     "execution_count": 79,
     "metadata": {},
     "output_type": "execute_result"
    }
   ],
   "source": [
    "arr1"
   ]
  },
  {
   "cell_type": "code",
   "execution_count": 80,
   "id": "a3074ea9",
   "metadata": {},
   "outputs": [
    {
     "data": {
      "text/plain": [
       "array([[9, 3, 5, 7],\n",
       "       [2, 7, 1, 9],\n",
       "       [4, 5, 8, 4]])"
      ]
     },
     "execution_count": 80,
     "metadata": {},
     "output_type": "execute_result"
    }
   ],
   "source": [
    "arr2"
   ]
  },
  {
   "cell_type": "code",
   "execution_count": 81,
   "id": "32febd75",
   "metadata": {},
   "outputs": [
    {
     "data": {
      "text/plain": [
       "array([[-6,  1, -3, -6],\n",
       "       [ 2,  2,  2, -7],\n",
       "       [ 4,  3, -1,  2]])"
      ]
     },
     "execution_count": 81,
     "metadata": {},
     "output_type": "execute_result"
    }
   ],
   "source": [
    "arr1 - arr2"
   ]
  },
  {
   "cell_type": "code",
   "execution_count": 83,
   "id": "eb3e17dd",
   "metadata": {},
   "outputs": [
    {
     "data": {
      "text/plain": [
       "array([[-6,  1, -3, -6],\n",
       "       [ 2,  2,  2, -7],\n",
       "       [ 4,  3, -1,  2]])"
      ]
     },
     "execution_count": 83,
     "metadata": {},
     "output_type": "execute_result"
    }
   ],
   "source": [
    "np.subtract(arr1 , arr2) # in the same way numoy also have a same function for subtraction "
   ]
  },
  {
   "cell_type": "code",
   "execution_count": 84,
   "id": "e4fab74a",
   "metadata": {},
   "outputs": [
    {
     "data": {
      "text/plain": [
       "array([[27, 12, 10,  7],\n",
       "       [ 8, 63,  3, 18],\n",
       "       [32, 40, 56, 24]])"
      ]
     },
     "execution_count": 84,
     "metadata": {},
     "output_type": "execute_result"
    }
   ],
   "source": [
    "np.multiply(arr1 , arr2)"
   ]
  },
  {
   "cell_type": "code",
   "execution_count": 86,
   "id": "90911dfb",
   "metadata": {},
   "outputs": [
    {
     "data": {
      "text/plain": [
       "array([[3, 1, 2, 1],\n",
       "       [0, 2, 0, 2],\n",
       "       [0, 3, 7, 2]], dtype=int32)"
      ]
     },
     "execution_count": 86,
     "metadata": {},
     "output_type": "execute_result"
    }
   ],
   "source": [
    "np.mod(arr1 , arr2) # mod is nothing just give us the remainder "
   ]
  },
  {
   "cell_type": "code",
   "execution_count": 87,
   "id": "d2fffd84",
   "metadata": {},
   "outputs": [
    {
     "data": {
      "text/plain": [
       "array([[  19683,      64,      32,       1],\n",
       "       [     16, 4782969,       3,     512],\n",
       "       [   4096,   32768, 5764801,    1296]], dtype=int32)"
      ]
     },
     "execution_count": 87,
     "metadata": {},
     "output_type": "execute_result"
    }
   ],
   "source": [
    "np.power(arr1 , arr2)"
   ]
  },
  {
   "cell_type": "code",
   "execution_count": 88,
   "id": "e2c7ee07",
   "metadata": {},
   "outputs": [
    {
     "data": {
      "text/plain": [
       "array([[1.73205081, 2.        , 1.41421356, 1.        ],\n",
       "       [2.        , 3.        , 1.73205081, 1.41421356],\n",
       "       [2.82842712, 2.82842712, 2.64575131, 2.44948974]])"
      ]
     },
     "execution_count": 88,
     "metadata": {},
     "output_type": "execute_result"
    }
   ],
   "source": [
    "np.sqrt(arr1)"
   ]
  },
  {
   "cell_type": "code",
   "execution_count": 89,
   "id": "d1a1cf2a",
   "metadata": {},
   "outputs": [],
   "source": [
    "# numpy - statistical operation "
   ]
  },
  {
   "cell_type": "code",
   "execution_count": 90,
   "id": "57509ae3",
   "metadata": {},
   "outputs": [
    {
     "data": {
      "text/plain": [
       "array([[3, 4, 2, 1],\n",
       "       [4, 9, 3, 2],\n",
       "       [8, 8, 7, 6]])"
      ]
     },
     "execution_count": 90,
     "metadata": {},
     "output_type": "execute_result"
    }
   ],
   "source": [
    "arr1"
   ]
  },
  {
   "cell_type": "code",
   "execution_count": 91,
   "id": "2a31d08e",
   "metadata": {},
   "outputs": [
    {
     "data": {
      "text/plain": [
       "4.75"
      ]
     },
     "execution_count": 91,
     "metadata": {},
     "output_type": "execute_result"
    }
   ],
   "source": [
    "np.mean(arr1)"
   ]
  },
  {
   "cell_type": "code",
   "execution_count": 92,
   "id": "94812435",
   "metadata": {},
   "outputs": [
    {
     "data": {
      "text/plain": [
       "2.6180463454008347"
      ]
     },
     "execution_count": 92,
     "metadata": {},
     "output_type": "execute_result"
    }
   ],
   "source": [
    "np.std(arr1)"
   ]
  },
  {
   "cell_type": "code",
   "execution_count": 93,
   "id": "31cd2df9",
   "metadata": {},
   "outputs": [
    {
     "data": {
      "text/plain": [
       "4.0"
      ]
     },
     "execution_count": 93,
     "metadata": {},
     "output_type": "execute_result"
    }
   ],
   "source": [
    "np.median(arr1)"
   ]
  },
  {
   "cell_type": "code",
   "execution_count": 94,
   "id": "c77dd413",
   "metadata": {},
   "outputs": [],
   "source": [
    "import numpy as np "
   ]
  },
  {
   "cell_type": "code",
   "execution_count": 95,
   "id": "0b52f972",
   "metadata": {},
   "outputs": [],
   "source": [
    "# sort  , search and counting function "
   ]
  },
  {
   "cell_type": "code",
   "execution_count": 115,
   "id": "067a66bf",
   "metadata": {},
   "outputs": [],
   "source": [
    "arr = np.array([72,33,44,5,61,71])"
   ]
  },
  {
   "cell_type": "code",
   "execution_count": 103,
   "id": "e84ebc26",
   "metadata": {},
   "outputs": [
    {
     "data": {
      "text/plain": [
       "array([ 5, 33, 44, 61, 71, 72])"
      ]
     },
     "execution_count": 103,
     "metadata": {},
     "output_type": "execute_result"
    }
   ],
   "source": [
    "np.sort(arr) # ascending order "
   ]
  },
  {
   "cell_type": "code",
   "execution_count": 110,
   "id": "8efe658e",
   "metadata": {},
   "outputs": [
    {
     "data": {
      "text/plain": [
       "1"
      ]
     },
     "execution_count": 110,
     "metadata": {},
     "output_type": "execute_result"
    }
   ],
   "source": [
    "np.searchsorted(arr, 6) # it will give us the index to store the 6 in a sorted manner to existing array  "
   ]
  },
  {
   "cell_type": "code",
   "execution_count": 111,
   "id": "95ef0047",
   "metadata": {},
   "outputs": [
    {
     "data": {
      "text/plain": [
       "6"
      ]
     },
     "execution_count": 111,
     "metadata": {},
     "output_type": "execute_result"
    }
   ],
   "source": [
    "np.searchsorted(arr , 77)"
   ]
  },
  {
   "cell_type": "code",
   "execution_count": 112,
   "id": "6fff6496",
   "metadata": {},
   "outputs": [
    {
     "data": {
      "text/plain": [
       "0"
      ]
     },
     "execution_count": 112,
     "metadata": {},
     "output_type": "execute_result"
    }
   ],
   "source": [
    "np.searchsorted(arr , 4)"
   ]
  },
  {
   "cell_type": "code",
   "execution_count": 114,
   "id": "7128e833",
   "metadata": {},
   "outputs": [],
   "source": [
    "arr1 = np.array([0,324,645,66,0,0,0,234])"
   ]
  },
  {
   "cell_type": "code",
   "execution_count": 116,
   "id": "c934af09",
   "metadata": {},
   "outputs": [
    {
     "data": {
      "text/plain": [
       "4"
      ]
     },
     "execution_count": 116,
     "metadata": {},
     "output_type": "execute_result"
    }
   ],
   "source": [
    "#counting function \n",
    "np.count_nonzero(arr1) # return the name of non zero element "
   ]
  },
  {
   "cell_type": "code",
   "execution_count": 118,
   "id": "24d6d735",
   "metadata": {},
   "outputs": [
    {
     "data": {
      "text/plain": [
       "(array([1, 2, 3, 7], dtype=int64),)"
      ]
     },
     "execution_count": 118,
     "metadata": {},
     "output_type": "execute_result"
    }
   ],
   "source": [
    "np.where(arr1 >0)# at what indexed we have data greater than 0 "
   ]
  },
  {
   "cell_type": "code",
   "execution_count": 122,
   "id": "cb6054c1",
   "metadata": {},
   "outputs": [
    {
     "data": {
      "text/plain": [
       "array([324, 645,  66, 234])"
      ]
     },
     "execution_count": 122,
     "metadata": {},
     "output_type": "execute_result"
    }
   ],
   "source": [
    "np.extract(arr1> 2 , arr1) # it is trying to ectract all the data greater than 2 "
   ]
  },
  {
   "cell_type": "code",
   "execution_count": 123,
   "id": "e95280bd",
   "metadata": {},
   "outputs": [
    {
     "data": {
      "text/plain": [
       "array([  0, 324, 645,  66,   0,   0,   0, 234])"
      ]
     },
     "execution_count": 123,
     "metadata": {},
     "output_type": "execute_result"
    }
   ],
   "source": [
    "# numpy - Byte swapping\n",
    "arr1 "
   ]
  },
  {
   "cell_type": "code",
   "execution_count": 125,
   "id": "85109533",
   "metadata": {},
   "outputs": [
    {
     "data": {
      "text/plain": [
       "array([          0,  1140916224, -2063466496,  1107296256,           0,\n",
       "                 0,           0,  -369098752])"
      ]
     },
     "execution_count": 125,
     "metadata": {},
     "output_type": "execute_result"
    }
   ],
   "source": [
    "# we don't used it generally \n",
    "arr1.byteswap() # swpa the original data with the byte one "
   ]
  },
  {
   "cell_type": "code",
   "execution_count": 126,
   "id": "570a7e3a",
   "metadata": {},
   "outputs": [
    {
     "data": {
      "text/plain": [
       "array([          0,  1140916224, -2063466496,  1107296256,           0,\n",
       "                 0,           0,  -369098752])"
      ]
     },
     "execution_count": 126,
     "metadata": {},
     "output_type": "execute_result"
    }
   ],
   "source": [
    "# if we want to keep the byte data permanent then-->>\n",
    "arr1.byteswap(True) # it will make inplace = True"
   ]
  },
  {
   "cell_type": "code",
   "execution_count": 127,
   "id": "4d4d17d4",
   "metadata": {},
   "outputs": [
    {
     "data": {
      "text/plain": [
       "array([          0,  1140916224, -2063466496,  1107296256,           0,\n",
       "                 0,           0,  -369098752])"
      ]
     },
     "execution_count": 127,
     "metadata": {},
     "output_type": "execute_result"
    }
   ],
   "source": [
    "arr1"
   ]
  },
  {
   "cell_type": "code",
   "execution_count": 128,
   "id": "a9c4e139",
   "metadata": {},
   "outputs": [],
   "source": [
    "# numpy - copy and view"
   ]
  },
  {
   "cell_type": "code",
   "execution_count": 129,
   "id": "83923616",
   "metadata": {},
   "outputs": [],
   "source": [
    "arr2 = np.array([1,34,55,4,34,23,12,27,76])"
   ]
  },
  {
   "cell_type": "code",
   "execution_count": 130,
   "id": "37c6794f",
   "metadata": {},
   "outputs": [],
   "source": [
    "a = np.copy(arr2)# this will make the deep copy "
   ]
  },
  {
   "cell_type": "code",
   "execution_count": 131,
   "id": "7189efec",
   "metadata": {},
   "outputs": [
    {
     "data": {
      "text/plain": [
       "array([ 1, 34, 55,  4, 34, 23, 12, 27, 76])"
      ]
     },
     "execution_count": 131,
     "metadata": {},
     "output_type": "execute_result"
    }
   ],
   "source": [
    "a # if we do any changes in arr2 then it will not affect the a "
   ]
  },
  {
   "cell_type": "code",
   "execution_count": 135,
   "id": "2bc2c461",
   "metadata": {},
   "outputs": [],
   "source": [
    "# view\n",
    "b = arr2.view()"
   ]
  },
  {
   "cell_type": "code",
   "execution_count": 137,
   "id": "e474fa7e",
   "metadata": {},
   "outputs": [
    {
     "data": {
      "text/plain": [
       "array([ 1, 34, 55,  4, 34, 23, 12, 27, 76])"
      ]
     },
     "execution_count": 137,
     "metadata": {},
     "output_type": "execute_result"
    }
   ],
   "source": [
    "b # the changes we do in b and arr2 will effect each other now "
   ]
  },
  {
   "cell_type": "code",
   "execution_count": 138,
   "id": "82922087",
   "metadata": {},
   "outputs": [],
   "source": [
    "b[0] = 2"
   ]
  },
  {
   "cell_type": "code",
   "execution_count": 139,
   "id": "e12f51c4",
   "metadata": {},
   "outputs": [
    {
     "data": {
      "text/plain": [
       "array([ 2, 34, 55,  4, 34, 23, 12, 27, 76])"
      ]
     },
     "execution_count": 139,
     "metadata": {},
     "output_type": "execute_result"
    }
   ],
   "source": [
    "b"
   ]
  },
  {
   "cell_type": "code",
   "execution_count": 140,
   "id": "d1dca2ce",
   "metadata": {},
   "outputs": [
    {
     "data": {
      "text/plain": [
       "array([ 2, 34, 55,  4, 34, 23, 12, 27, 76])"
      ]
     },
     "execution_count": 140,
     "metadata": {},
     "output_type": "execute_result"
    }
   ],
   "source": [
    "arr2"
   ]
  },
  {
   "cell_type": "code",
   "execution_count": 141,
   "id": "6167f932",
   "metadata": {},
   "outputs": [],
   "source": [
    "arr2[0] = 1"
   ]
  },
  {
   "cell_type": "code",
   "execution_count": 142,
   "id": "a82e9523",
   "metadata": {},
   "outputs": [
    {
     "data": {
      "text/plain": [
       "array([ 1, 34, 55,  4, 34, 23, 12, 27, 76])"
      ]
     },
     "execution_count": 142,
     "metadata": {},
     "output_type": "execute_result"
    }
   ],
   "source": [
    "arr2"
   ]
  },
  {
   "cell_type": "code",
   "execution_count": 143,
   "id": "5d9e4383",
   "metadata": {},
   "outputs": [
    {
     "data": {
      "text/plain": [
       "array([ 1, 34, 55,  4, 34, 23, 12, 27, 76])"
      ]
     },
     "execution_count": 143,
     "metadata": {},
     "output_type": "execute_result"
    }
   ],
   "source": [
    "b"
   ]
  },
  {
   "cell_type": "code",
   "execution_count": 144,
   "id": "b3ac830b",
   "metadata": {},
   "outputs": [],
   "source": [
    "# view operation is just like b = arr2 # ditto same "
   ]
  },
  {
   "cell_type": "code",
   "execution_count": 145,
   "id": "53686099",
   "metadata": {},
   "outputs": [],
   "source": [
    "# Numpy - matrix library "
   ]
  },
  {
   "cell_type": "code",
   "execution_count": 147,
   "id": "7d00c6f7",
   "metadata": {},
   "outputs": [],
   "source": [
    "import numpy.matlib as nm # matlib stands for matrix library "
   ]
  },
  {
   "cell_type": "code",
   "execution_count": 149,
   "id": "e28936d4",
   "metadata": {},
   "outputs": [
    {
     "data": {
      "text/plain": [
       "matrix([[0., 0., 0., 0., 0.]])"
      ]
     },
     "execution_count": 149,
     "metadata": {},
     "output_type": "execute_result"
    }
   ],
   "source": [
    "nm.zeros(5) # it will create a two dimensional matrix "
   ]
  },
  {
   "cell_type": "code",
   "execution_count": 151,
   "id": "0a95b23b",
   "metadata": {},
   "outputs": [
    {
     "data": {
      "text/plain": [
       "matrix([[1., 1., 1., 1.],\n",
       "        [1., 1., 1., 1.],\n",
       "        [1., 1., 1., 1.]])"
      ]
     },
     "execution_count": 151,
     "metadata": {},
     "output_type": "execute_result"
    }
   ],
   "source": [
    "nm.ones((3,4))"
   ]
  },
  {
   "cell_type": "code",
   "execution_count": 152,
   "id": "449fd5d7",
   "metadata": {},
   "outputs": [],
   "source": [
    "# matrix is a subset of an array inside numpy "
   ]
  },
  {
   "cell_type": "code",
   "execution_count": 154,
   "id": "65ba6c10",
   "metadata": {},
   "outputs": [
    {
     "data": {
      "text/plain": [
       "matrix([[1., 0., 0., 0.],\n",
       "        [0., 1., 0., 0.],\n",
       "        [0., 0., 1., 0.],\n",
       "        [0., 0., 0., 1.]])"
      ]
     },
     "execution_count": 154,
     "metadata": {},
     "output_type": "execute_result"
    }
   ],
   "source": [
    "nm.eye(4) # matrix with all diagonal as 1 "
   ]
  },
  {
   "cell_type": "code",
   "execution_count": 155,
   "id": "c9dad5f6",
   "metadata": {},
   "outputs": [],
   "source": [
    "# whatever we can achieve in the matrix library we can achieve in the numpy library "
   ]
  },
  {
   "cell_type": "code",
   "execution_count": 156,
   "id": "1b071fba",
   "metadata": {},
   "outputs": [],
   "source": [
    "# Numpy -- Linear algebra"
   ]
  },
  {
   "cell_type": "code",
   "execution_count": 157,
   "id": "870f0e53",
   "metadata": {},
   "outputs": [
    {
     "data": {
      "text/plain": [
       "array([          0,  1140916224, -2063466496,  1107296256,           0,\n",
       "                 0,           0,  -369098752])"
      ]
     },
     "execution_count": 157,
     "metadata": {},
     "output_type": "execute_result"
    }
   ],
   "source": [
    "arr1"
   ]
  },
  {
   "cell_type": "code",
   "execution_count": 158,
   "id": "26e84a0a",
   "metadata": {},
   "outputs": [],
   "source": [
    "arr1=np.random.randint([[2,3] , [4,5]])\n",
    "arr2=np.random.randint([[5,3] , [2,5]])"
   ]
  },
  {
   "cell_type": "code",
   "execution_count": 159,
   "id": "24856f3b",
   "metadata": {},
   "outputs": [
    {
     "data": {
      "text/plain": [
       "array([[1, 0],\n",
       "       [0, 3]])"
      ]
     },
     "execution_count": 159,
     "metadata": {},
     "output_type": "execute_result"
    }
   ],
   "source": [
    "arr1"
   ]
  },
  {
   "cell_type": "code",
   "execution_count": 160,
   "id": "680dbab7",
   "metadata": {},
   "outputs": [
    {
     "data": {
      "text/plain": [
       "array([[3, 1],\n",
       "       [1, 4]])"
      ]
     },
     "execution_count": 160,
     "metadata": {},
     "output_type": "execute_result"
    }
   ],
   "source": [
    "arr2"
   ]
  },
  {
   "cell_type": "code",
   "execution_count": 161,
   "id": "0fa8dfe9",
   "metadata": {},
   "outputs": [
    {
     "data": {
      "text/plain": [
       "array([[ 3,  1],\n",
       "       [ 3, 12]])"
      ]
     },
     "execution_count": 161,
     "metadata": {},
     "output_type": "execute_result"
    }
   ],
   "source": [
    "np.dot(arr1, arr2)"
   ]
  },
  {
   "cell_type": "code",
   "execution_count": 162,
   "id": "cd4be706",
   "metadata": {},
   "outputs": [
    {
     "data": {
      "text/plain": [
       "array([[ 3,  1],\n",
       "       [ 3, 12]])"
      ]
     },
     "execution_count": 162,
     "metadata": {},
     "output_type": "execute_result"
    }
   ],
   "source": [
    "arr1@arr2 # dot product is nothing but just a matrix multiplication "
   ]
  },
  {
   "cell_type": "code",
   "execution_count": null,
   "id": "c0847611",
   "metadata": {},
   "outputs": [],
   "source": []
  }
 ],
 "metadata": {
  "kernelspec": {
   "display_name": "Python 3 (ipykernel)",
   "language": "python",
   "name": "python3"
  },
  "language_info": {
   "codemirror_mode": {
    "name": "ipython",
    "version": 3
   },
   "file_extension": ".py",
   "mimetype": "text/x-python",
   "name": "python",
   "nbconvert_exporter": "python",
   "pygments_lexer": "ipython3",
   "version": "3.9.13"
  }
 },
 "nbformat": 4,
 "nbformat_minor": 5
}
